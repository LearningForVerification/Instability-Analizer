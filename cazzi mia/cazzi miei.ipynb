{
 "cells": [
  {
   "cell_type": "code",
   "id": "initial_id",
   "metadata": {
    "collapsed": true,
    "ExecuteTime": {
     "end_time": "2024-07-02T15:03:01.843963Z",
     "start_time": "2024-07-02T15:02:57.715328Z"
    }
   },
   "source": [
    "import pandas as pd\n",
    "import numpy as np\n",
    "import matplotlib.pyplot as plt\n",
    "import networkx as nx\n",
    "\n",
    "# Caricamento del file CSV\n",
    "file_path = r'C:\\Users\\andr3\\Desktop\\Instability-Analizer\\cazzi mia\\graph_matrix.txt'\n",
    "distanze = pd.read_csv(file_path, header=None)\n",
    "\n",
    "# Visualizzazione della matrice delle distanze\n",
    "print(distanze)\n",
    "\n",
    "# Creazione del grafo\n",
    "def crea_grafo(matrice_distanze):\n",
    "    G = nx.Graph()\n",
    "    n = matrice_distanze.shape[0]\n",
    "    for i in range(n):\n",
    "        for j in range(n):\n",
    "            if i != j and not np.isnan(matrice_distanze[i, j]):\n",
    "                G.add_edge(i, j, weight=matrice_distanze[i, j])\n",
    "    return G\n",
    "\n",
    "# Visualizzazione del grafo\n",
    "def visualizza_grafo(G):\n",
    "    pos = nx.spring_layout(G)\n",
    "    edges = G.edges(data=True)\n",
    "    weights = [edge[2]['weight'] for edge in edges]\n",
    "    nx.draw(G, pos, with_labels=True, node_color='lightblue', node_size=500, font_size=10)\n",
    "    nx.draw_networkx_edge_labels(G, pos, edge_labels={(u, v): f'{d[\"weight\"]:.2f}' for u, v, d in edges})\n",
    "    plt.show()\n",
    "\n",
    "# Creazione del grafo dalla matrice di distanze\n",
    "G = crea_grafo(distanze.values)\n",
    "\n",
    "# Visualizzazione del grafo\n",
    "visualizza_grafo(G)\n"
   ],
   "outputs": [
    {
     "name": "stdout",
     "output_type": "stream",
     "text": [
      "                                                    0\n",
      "0   9999999\\t\\t\\t\\t186.397659078462\\t127.435388089...\n",
      "1   186.397659078462\\t9999999\\t\\t\\t\\t249.870137346...\n",
      "2   127.435388089826\\t249.870137346879\\t9999999\\t\\...\n",
      "3   318.811263559047\\t417.176031938158\\t192.035293...\n",
      "4   361.380045309908\\t542.475099297597\\t315.724458...\n",
      "5   200.450150091404\\t377.979410830845\\t256.639728...\n",
      "6   449.870973308121\\t533.194934678165\\t563.592828...\n",
      "7   454.520205100848\\t354.64688308354\\t\\t569.29558...\n",
      "8   465.730667308004\\t329.5756213633\\t\\t437.503037...\n",
      "9   407.263997531093\\t368.298361576823\\t318.995553...\n",
      "10  516.379900273229\\t332.68736182225\\t\\t575.93980...\n",
      "11  228.674003093883\\t274.248435879014\\t355.664467...\n",
      "12  125.856806995142\\t306.681858845035\\t114.894180...\n",
      "13  280.240683680978\\t141.063240095643\\t281.210413...\n",
      "14  260.523787683955\\t350.172734172092\\t133.249787...\n",
      "15  459.054177028296\\t425.787426809594\\t585.498999...\n",
      "16  144.566376197898\\t289.700011397147\\t250.834661...\n",
      "17  463.383556890699\\t510.576952719888\\t338.727671...\n",
      "18  270.924744035536\\t157.240817433046\\t375.722053...\n",
      "19  255.047163590301\\t417.450643703747\\t172.611122...\n",
      "20  538.955121802079\\t538.383146991808\\t425.801189...\n",
      "21  170.932437087292\\t143.661233970808\\t289.142051...\n",
      "22  285.452570222523\\t470.65721124946\\t\\t301.01317...\n",
      "23  333.140548637216\\t148.659723056928\\t373.812011...\n",
      "24  277.329974471249\\t375.896027277902\\t392.410759...\n",
      "25  445.714539908659\\t521.551599676724\\t318.286260...\n",
      "26  151.633577446993\\t237.582903355144\\t277.385962...\n",
      "27  359.815888233896\\t517.66035099237\\t\\t430.13188...\n",
      "28  539.137392907249\\t488.431717487911\\t448.279736...\n",
      "29  185.824751960403\\t98.211233679144\\t\\t192.87646...\n",
      "30  105.97309854798\\t\\t129.66279915847\\t\\t120.7963...\n"
     ]
    },
    {
     "ename": "IndexError",
     "evalue": "index 1 is out of bounds for axis 1 with size 1",
     "output_type": "error",
     "traceback": [
      "\u001B[1;31m---------------------------------------------------------------------------\u001B[0m",
      "\u001B[1;31mIndexError\u001B[0m                                Traceback (most recent call last)",
      "Cell \u001B[1;32mIn[1], line 33\u001B[0m\n\u001B[0;32m     30\u001B[0m     plt\u001B[38;5;241m.\u001B[39mshow()\n\u001B[0;32m     32\u001B[0m \u001B[38;5;66;03m# Creazione del grafo dalla matrice di distanze\u001B[39;00m\n\u001B[1;32m---> 33\u001B[0m G \u001B[38;5;241m=\u001B[39m \u001B[43mcrea_grafo\u001B[49m\u001B[43m(\u001B[49m\u001B[43mdistanze\u001B[49m\u001B[38;5;241;43m.\u001B[39;49m\u001B[43mvalues\u001B[49m\u001B[43m)\u001B[49m\n\u001B[0;32m     35\u001B[0m \u001B[38;5;66;03m# Visualizzazione del grafo\u001B[39;00m\n\u001B[0;32m     36\u001B[0m visualizza_grafo(G)\n",
      "Cell \u001B[1;32mIn[1], line 19\u001B[0m, in \u001B[0;36mcrea_grafo\u001B[1;34m(matrice_distanze)\u001B[0m\n\u001B[0;32m     17\u001B[0m \u001B[38;5;28;01mfor\u001B[39;00m i \u001B[38;5;129;01min\u001B[39;00m \u001B[38;5;28mrange\u001B[39m(n):\n\u001B[0;32m     18\u001B[0m     \u001B[38;5;28;01mfor\u001B[39;00m j \u001B[38;5;129;01min\u001B[39;00m \u001B[38;5;28mrange\u001B[39m(n):\n\u001B[1;32m---> 19\u001B[0m         \u001B[38;5;28;01mif\u001B[39;00m i \u001B[38;5;241m!=\u001B[39m j \u001B[38;5;129;01mand\u001B[39;00m \u001B[38;5;129;01mnot\u001B[39;00m np\u001B[38;5;241m.\u001B[39misnan(\u001B[43mmatrice_distanze\u001B[49m\u001B[43m[\u001B[49m\u001B[43mi\u001B[49m\u001B[43m,\u001B[49m\u001B[43m \u001B[49m\u001B[43mj\u001B[49m\u001B[43m]\u001B[49m):\n\u001B[0;32m     20\u001B[0m             G\u001B[38;5;241m.\u001B[39madd_edge(i, j, weight\u001B[38;5;241m=\u001B[39mmatrice_distanze[i, j])\n\u001B[0;32m     21\u001B[0m \u001B[38;5;28;01mreturn\u001B[39;00m G\n",
      "\u001B[1;31mIndexError\u001B[0m: index 1 is out of bounds for axis 1 with size 1"
     ]
    }
   ],
   "execution_count": 1
  }
 ],
 "metadata": {
  "kernelspec": {
   "display_name": "Python 3",
   "language": "python",
   "name": "python3"
  },
  "language_info": {
   "codemirror_mode": {
    "name": "ipython",
    "version": 2
   },
   "file_extension": ".py",
   "mimetype": "text/x-python",
   "name": "python",
   "nbconvert_exporter": "python",
   "pygments_lexer": "ipython2",
   "version": "2.7.6"
  }
 },
 "nbformat": 4,
 "nbformat_minor": 5
}
