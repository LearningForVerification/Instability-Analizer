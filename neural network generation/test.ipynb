{
 "cells": [
  {
   "cell_type": "code",
   "id": "initial_id",
   "metadata": {
    "collapsed": true,
    "ExecuteTime": {
     "end_time": "2024-07-07T14:07:14.908051Z",
     "start_time": "2024-07-07T14:07:14.159345Z"
    }
   },
   "source": "from generate_nn_dims import get_dims",
   "outputs": [],
   "execution_count": 1
  },
  {
   "metadata": {
    "ExecuteTime": {
     "end_time": "2024-07-07T14:07:27.171911Z",
     "start_time": "2024-07-07T14:07:27.162322Z"
    }
   },
   "cell_type": "code",
   "source": "get_dims()",
   "id": "9081c7199bfabe1",
   "outputs": [
    {
     "data": {
      "text/plain": [
       "([4,\n",
       "  6,\n",
       "  8,\n",
       "  9,\n",
       "  11,\n",
       "  13,\n",
       "  14,\n",
       "  16,\n",
       "  18,\n",
       "  19,\n",
       "  19,\n",
       "  24,\n",
       "  28,\n",
       "  32,\n",
       "  36,\n",
       "  40,\n",
       "  45,\n",
       "  49,\n",
       "  53,\n",
       "  57,\n",
       "  57,\n",
       "  163,\n",
       "  268,\n",
       "  374,\n",
       "  479,\n",
       "  585,\n",
       "  690,\n",
       "  796,\n",
       "  901,\n",
       "  1007],\n",
       " 40000)"
      ]
     },
     "execution_count": 2,
     "metadata": {},
     "output_type": "execute_result"
    }
   ],
   "execution_count": 2
  }
 ],
 "metadata": {
  "kernelspec": {
   "display_name": "Python 3",
   "language": "python",
   "name": "python3"
  },
  "language_info": {
   "codemirror_mode": {
    "name": "ipython",
    "version": 2
   },
   "file_extension": ".py",
   "mimetype": "text/x-python",
   "name": "python",
   "nbconvert_exporter": "python",
   "pygments_lexer": "ipython2",
   "version": "2.7.6"
  }
 },
 "nbformat": 4,
 "nbformat_minor": 5
}
